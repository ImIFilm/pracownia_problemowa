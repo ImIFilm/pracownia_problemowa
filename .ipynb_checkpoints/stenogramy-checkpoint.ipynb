{
 "cells": [
  {
   "cell_type": "code",
   "execution_count": 1,
   "metadata": {
    "scrolled": true
   },
   "outputs": [
    {
     "name": "stdout",
     "output_type": "stream",
     "text": [
      "73\n",
      "26\n",
      "50\n"
     ]
    }
   ],
   "source": [
    "from selenium import webdriver\n",
    "from selenium.webdriver.common.keys import Keys\n",
    "\n",
    "driver = webdriver.Chrome(\"C:/Users/Piotr/dane/różne/chromedriver_win32/chromedriver.exe\")\n",
    "driver.get(\"http://www.sejm.gov.pl/Sejm9.nsf/biuletyn.xsp?skrnr=FPB-16\")\n",
    "assert \"Zapis\" in driver.title\n",
    "speakers = driver.find_element_by_xpath(\"//div[contains(text(),'Mówcy:')]/following-sibling::ul\")\n",
    "# print(speakers.text)\n",
    "people = driver.find_elements_by_xpath(\"//*[contains(@class,'plain')]/*/font| //*[contains(@class,'plain')]/*/p\")\n",
    "bold_people = driver.find_elements_by_xpath(\"//*[contains(@class,'plain')]/*/p/font/b\")\n",
    "l1 = []\n",
    "l2 = []\n",
    "for p in people:\n",
    "    l1.append(p.text)\n",
    "for p in bold_people:\n",
    "    l2.append(p.text)\n",
    "    \n",
    "# for p in people_list:\n",
    "#     print(p)\n",
    "# for p in bold_people_list:\n",
    "#     print(p)\n",
    "\n",
    "l3 = [x for x in l1 if x not in l2]\n",
    "\n",
    "print (len(l1))\n",
    "print (len(l2))\n",
    "print (len(l3))\n",
    "# elem.clear()\n",
    "# elem.send_keys(\"pycon\")\n",
    "# elem.send_keys(Keys.RETURN)\n",
    "# assert \"No results found.\" not in driver.page_source\n",
    "driver.close()"
   ]
  },
  {
   "cell_type": "code",
   "execution_count": 2,
   "metadata": {
    "scrolled": true
   },
   "outputs": [],
   "source": [
    "copy=l1"
   ]
  },
  {
   "cell_type": "code",
   "execution_count": 3,
   "metadata": {
    "scrolled": true
   },
   "outputs": [],
   "source": [
    "for x in l1[:]:\n",
    "    if x[-1]==\":\" and x in l2:\n",
    "        break\n",
    "    else:\n",
    "        l1.remove(x)"
   ]
  },
  {
   "cell_type": "code",
   "execution_count": 4,
   "metadata": {
    "scrolled": true
   },
   "outputs": [],
   "source": [
    "for n, x in enumerate(l1):\n",
    "    for y in l2[:]:\n",
    "        if x==y:\n",
    "            l1[n]=\">> SPEAKER: \"+x\n",
    "            l2.remove(y)\n",
    "            break"
   ]
  },
  {
   "cell_type": "code",
   "execution_count": 5,
   "metadata": {
    "scrolled": false
   },
   "outputs": [
    {
     "name": "stdout",
     "output_type": "stream",
     "text": [
      "\n",
      "\n",
      "\u001b[31m>> SPEAKER: Przewodniczący poseł Henryk Kowalczyk (PiS):\u001b[0m\n",
      "Otwieram posiedzenie Komisji Finansów Publicznych. Stwierdzam kworum. Porządek dzisiejszego posiedzenia przewiduje rozpatrzenie rządowego projektu ustawy o zmianie ustawy o podatku dochodowym od osób fizycznych oraz ustawy o zryczałtowanym podatku dochodowym od niektórych przychodów osiąganych przez osoby fizyczne (druk nr 115).\n",
      "Czy są uwagi do porządku dziennego? Nie ma. Wobec niezgłoszenia uwag do porządku dziennego stwierdzam jego przyjęcie.\n",
      "Na obecnym posiedzeniu witam pana Jana Sarnowskiego – podsekretarza stanu w Ministerstwie Finansów wraz ze współpracownikami.\n",
      "Zatem przystępujemy do realizacji porządku dziennego. Informuję, że rządowy projekt ustawy o zmianie ustawy o podatku dochodowym od osób fizycznych oraz ustawy o zryczałtowanym podatku dochodowym od niektórych przychodów osiąganych przez osoby fizyczne został skierowany przez Sejm do Komisji Finansów Publicznych w celu rozpatrzenia z zaznaczonym terminem, aby drugie czytanie mogło odbyć się na tym posiedzeniu Sejmu.\n",
      "Dyskusja i pierwsze czytanie odbyło się na sali plenarnej Sejmu. Zatem proponuję przystąpić do rozpatrzenia projektu ustawy. Rozpatrywanie projektu ustawy będziemy przeprowadzać w nowym trybie, czyli, według zaleceń Marszałka Sejmu, nie rozpatrując poszczególnych zmian, jeśli nie ma do nich poprawek.\n",
      "Czy są uwagi do art. 1? Proszę bardzo, zgłaszało się Biuro Legislacyjne.\n",
      "\n",
      "\n",
      "\u001b[31m>> SPEAKER: Legislator Jacek Pędzisz:\u001b[0m\n",
      "Dziękuję bardzo. W art. 1 w ostatniej linijce wprowadzenia do wyliczenia wystąpił błąd redakcyjny. Chodzi o szefa Krajowej Administracji Skarbowej, a nie podatkowej. Dziękuję uprzejmie.\n",
      "\n",
      "\n",
      "\u001b[31m>> SPEAKER: Przewodniczący poseł Henryk Kowalczyk (PiS):\u001b[0m\n",
      "Tak, to oczywiste. Możemy uznać to za błąd redakcyjny. Czy tak?\n",
      "\n",
      "\n",
      "\u001b[31m>> SPEAKER: Legislator Jacek Pędzisz:\u001b[0m\n",
      "Jak najbardziej zgadzamy się z uwagą.\n",
      "\n",
      "\n",
      "\u001b[31m>> SPEAKER: Przewodniczący poseł Henryk Kowalczyk (PiS):\u001b[0m\n",
      "Upoważniamy Biuro Legislacyjne do naniesienia stosownej poprawki redakcyjnej. Proszę bardzo, pani przewodnicząca Skowrońska.\n",
      "\n",
      "\n",
      "\u001b[31m>> SPEAKER: Poseł Krystyna Skowrońska (KO):\u001b[0m\n",
      "W imieniu klubu Koalicji Obywatelskiej chciałabym poprosić, jak również pan poseł Jan Cichoń, o powrót do głównego tematu tego rozwiązania.\n",
      "\n",
      "\n",
      "\u001b[31m>> SPEAKER: Poseł Janusz Cichoń (KO):\u001b[0m\n",
      "Panie przewodniczący, Wysoka Komisjo, miałbym prośbę do pana ministra. Jest to jednak ograniczenie funkcjonalności, do których swego czasu zobowiązywał się rząd. Znajdujemy tu sformułowania, że realizacja tych funkcjonalności jest obarczona dużym ryzykiem. Pytanie, dlaczego i pytanie czy jednak nie da się tego zrobić, bo wygląda mi na to, że jeśliby skoncentrować się na tym zadaniu, jeśli ono nie zostało zostawione zupełnie na boku, to do 15 lutego jest jeszcze trochę czasu i można byłoby wywiązać się jednak z tego zobowiązania.\n",
      "Chcielibyśmy też poznać prawdziwe powody odkładania w czasie rozwiązań korzystnych z punktu widzenia podatników. Dziękuję.\n",
      "\n",
      "\n",
      "\u001b[31m>> SPEAKER: Przewodniczący poseł Henryk Kowalczyk (PiS):\u001b[0m\n",
      "Dziękuję bardzo. Wprawdzie dyskusja i pierwsze czytanie odbyło się na sali plenarnej, ale jeśli pan minister zechciałby udzielić kilku słów wyjaśnień i odpowiedzi, to bardzo proszę.\n",
      "\n",
      "\n",
      "\u001b[31m>> SPEAKER: Podsekretarz stanu w Ministerstwie Finansów Jan Sarnowski:\u001b[0m\n",
      "Przyczyną konieczności zmiany terminu wnoszenia kolejnej funkcjonalności, w tym wypadku udostępnienia przedsiębiorcom przynajmniej częściowo wypełnionej deklaracji w podatku PIT, są zmiany legislacyjne realizowane w ciągu ubiegłego 2019 roku.\n",
      "Są to zmiany, które nie tylko były procedowane w ciągu roku, ale które również weszły w życie w ciągu roku. Z jednej strony wymagało to pilnych prac parlamentarnych nad przygotowaniem odpowiednich przepisów oraz ich wdrożeniem, ale również dostosowania funkcjonującego systemu do nowych funkcjonalności.\n",
      "System, który otworzył możliwość udostępnienia wszystkim pracownikom uzupełnionej deklaracji podatkowej (funkcjonalność, która została udostępniona w lutym 2019 r.), nie mógł być przeniesiony jeden do jednego na realizację tej samej usługi w 2019 r. Stąd pokłosiem zmian legislacyjnych, które wchodziły w życie nawet w drugiej połowie ubiegłego roku, była również konieczność przesunięcia pewnych sił programistycznych, systemowych w Ministerstwie Finansów z realizacji dalszych etapów wdrażania funkcjonalności do zapewnienia dalszej funkcjonalności tej usługi, która w poprzednim okresie została już udostępniona.\n",
      "Chciałbym również przypomnieć, że została udostępniona również najważniejszej z punktu widzenia Ministerstwa Finansów grupie obywateli. Dlaczego również? Ponieważ pracownicy są grupą niewyspecjalizowaną, nieposiadającą takiego instrumentarium pozwalającego na samodzielne wypełnienie deklaracji podatkowych jak przedsiębiorcy.\n",
      "Najlepszym dowodem na to, że przedsiębiorcy są grupą zdecydowanie mniej wrażliwą niż pracownicy jest fakt, że już teraz znacząca część przedsiębiorców rozlicza się online poprzez funkcjonalność e-deklaracje.\n",
      "\n",
      "\n",
      "\u001b[31m>> SPEAKER: Poseł Janusz Cichoń (KO):\u001b[0m\n",
      "Mam jeszcze jedno krótkie pytanie. Jaki był udział aplikacji krytycznych w przygotowaniu tej funkcjonalności i tych rozwiązań? Czy przypadkiem nie one odpowiadają za tę zwłokę?\n",
      "\n",
      "\n",
      "\u001b[31m>> SPEAKER: Przewodniczący poseł Henryk Kowalczyk (PiS):\u001b[0m\n",
      "Proszę bardzo, panie ministrze.\n",
      "\n",
      "\n",
      "\u001b[31m>> SPEAKER: Podsekretarz stanu w MF Jan Sarnowski:\u001b[0m\n",
      "Według mojej wiedzy system został przygotowany przez Departament Informatyzacji Ministerstwa Finansów. Bardziej szczegółowych informacji na ten temat możemy udzielić pisemnie.\n",
      "\n",
      "\n",
      "\u001b[31m>> SPEAKER: Poseł Janusz Cichoń (KO):\u001b[0m\n",
      "Z uwzględnieniem zaangażowania aplikacji krytycznych w tym rozwiązaniu.\n",
      "\n",
      "\n",
      "\u001b[31m>> SPEAKER: Przewodniczący poseł Henryk Kowalczyk (PiS):\u001b[0m\n",
      "Dziękuję bardzo. Czy są jeszcze jakieś inne uwagi?\n",
      "\n",
      "\n",
      "\u001b[31m>> SPEAKER: Poseł Krystyna Skowrońska (KO):\u001b[0m\n",
      "Chciałabym powiedzieć, że pan minister niestety mnie nie przekonał, bo to wszystko było do 31 grudnia. Jesteśmy przy pierwszym czytaniu, a to już było po terminie i można było się przygotować, bo państwo planowali wszystkie zmiany podatkowe tak, aby rozwiązanie, o którym mówimy, czyli rozliczenie elektroniczne i składanie zeznań mogło być wprowadzone. Ten moment jest trochę późny.\n",
      "Trzeba było razem. Jeśli państwo mówią jakie były powody przesunięcia, to można było zrobić więcej w tym czasie.\n",
      "\n",
      "\n",
      "\u001b[31m>> SPEAKER: Przewodniczący poseł Henryk Kowalczyk (PiS):\u001b[0m\n",
      "Dziękuję bardzo. Myślę, że to bardziej była uwaga niż pytanie. Pan poseł Uściński, proszę bardzo.\n",
      "\n",
      "\n",
      "\u001b[31m>> SPEAKER: Poseł Piotr Uściński (PiS):\u001b[0m\n",
      "Panie przewodniczący, chciałbym zaproponować abyśmy nie wracali do rundy pytań, bo to odbyło się na sali plenarnej. Tam odbyła się dyskusja. Proponuję, abyśmy przystąpili do rozpatrywania kolejnych punktów ustawy.\n",
      "\n",
      "\n",
      "\u001b[31m>> SPEAKER: Przewodniczący poseł Henryk Kowalczyk (PiS):\u001b[0m\n",
      "Dziękuję bardzo. Wobec tego ponawiam pytanie czy są poprawki do art. 1? Za wyjątkiem zgłoszonej przez Biuro Legislacyjne? Nie ma.\n",
      "Czy są uwagi i poprawki do art. 2? Też nie ma.\n",
      "Czy są uwagi i poprawki do art. 3? Również nie ma.\n",
      "Czy są uwagi i poprawki do art. 4? Biuro Legislacyjne. Proszę bardzo.\n",
      "\n",
      "\n",
      "\u001b[31m>> SPEAKER: Legislator Jacek Pędzisz:\u001b[0m\n",
      "Dziękuję bardzo. To będzie uwaga do zaproponowanego terminu wejścia w życie ustawy. Biuro Legislacyjne pragnie zwrócić uwagę, że zaproponowany termin wejścia ustawy w życie może kolidować z terminami przewidzianymi w konstytucji dla organów władzy publicznej uczestniczących w procesie ustawodawczym. Jednocześnie w przypadku zachowania przez Sejm zaproponowanego terminu wejścia regulacji w życie, istnieje ryzyko, że w wyniku wykorzystania przez pozostałe organy władzy publicznej, czyli konstytucyjne terminy – dla Senatu 30 dni i dla Prezydenta 21 dni – proces legislacyjny przyjmowania ustawy może nie zakończyć się przed wskazaną datą.\n",
      "Niemniej jednak zwracamy również uwagę, że zgodnie z obowiązującymi regulacjami wstępnie wypełnione zeznania podatkowe, w tym dotyczące podatników prowadzących działalność gospodarczą lub działy specjalne produkcji rolnej, powinny być udostępnione od dnia 15 lutego 2020 r. Dziękuję uprzejmie.\n",
      "\n",
      "\n",
      "\u001b[31m>> SPEAKER: Przewodniczący poseł Henryk Kowalczyk (PiS):\u001b[0m\n",
      "Dziękuję bardzo. Jesteśmy świadomi tej uwagi? Czy pan minister chciałby jeszcze coś dodać?\n",
      "\n",
      "\n",
      "\u001b[31m>> SPEAKER: Podsekretarz stanu w MF Jan Sarnowski:\u001b[0m\n",
      "Chciałbym dodać, że Ministerstwo Finansów jest świadome tych ryzyk i jest głęboko przekonane, że w ramach aktualnego procesu legislacyjnego uda się do końca i w terminie, do którego jesteśmy zmuszeni przepisami ustawowymi, przeprowadzić te wszystkie zmiany.\n",
      "\n",
      "\n",
      "\u001b[31m>> SPEAKER: Przewodniczący poseł Henryk Kowalczyk (PiS):\u001b[0m\n",
      "Dziękuję bardzo. Pojawia się ryzyko, że jeżeli będzie to długo trwało w Senacie, to Senat może wnieść poprawkę dotyczącą zmiany daty wejścia ustawy w życie, natomiast może w Sejmie nie zakładajmy tego z góry.\n",
      "Świadomi uwagi zgłoszonej przez Biuro Legislacyjne przyjmujemy art. 4 w zaproponowanym brzmieniu.\n",
      "Proponuję upoważnić Biuro Legislacyjne do dokonania zmian o charakterze redakcyjnym. Tak naprawdę jednej zmiany w art. 1. Czy jest sprzeciw wobec propozycji upoważnienia biura? Nie ma.\n",
      "Wobec tego poddaję pod głosowanie wniosek o przyjęcie całego projektu ustawy. Czy jest sprzeciw? Nie ma. Wobec tego stwierdzam, że projekt ustawy został przyjęty przez Komisję.\n",
      "Komisja musi jeszcze wybrać posła-sprawozdawcę, który sprawozdanie Komisji przedstawi na posiedzeniu plenarnym Sejmu. Proponuję, aby sprawozdawcą został poseł Jerzy Małecki. Wyraża zgodę. Czy ktoś jest przeciwny tej propozycji? Nie. Wobec niewniesienia sprzeciwu stwierdzam, że Komisja wybrała posła Jerzego Małeckiego na sprawozdawcę Komisji.\n",
      "Informuję, że z protokół z posiedzenia z załączonym pełnym zapisem przebiegu będzie wyłożony do wglądu w sekretariacie Komisji w Kancelarii Sejmu.\n",
      "Na tym wyczerpaliśmy porządek dzienny posiedzenia Komisji. Mam jedno ogłoszenie. Jutro będziemy próbowali zwoływać posiedzenia poszczególnych podkomisji w celu ich ukonstytuowania. Proszę zachować czujność i odczytywać wiadomości SMS. Zamykam posiedzenie Komisji.\n",
      "\n",
      "\n"
     ]
    }
   ],
   "source": [
    "for y in copy:\n",
    "    if y.startswith(\">> SPEAKER:\"):\n",
    "        print (\"\\n\")\n",
    "        print(\"\\x1b[31m{}\\x1b[0m\".format(y))\n",
    "    else:\n",
    "        print(y)"
   ]
  },
  {
   "cell_type": "code",
   "execution_count": 6,
   "metadata": {
    "scrolled": true
   },
   "outputs": [
    {
     "name": "stdout",
     "output_type": "stream",
     "text": [
      "4\n"
     ]
    }
   ],
   "source": [
    "print (len(l2))"
   ]
  },
  {
   "cell_type": "code",
   "execution_count": null,
   "metadata": {
    "scrolled": true
   },
   "outputs": [],
   "source": []
  }
 ],
 "metadata": {
  "kernelspec": {
   "display_name": "Python 3",
   "language": "python",
   "name": "python3"
  },
  "language_info": {
   "codemirror_mode": {
    "name": "ipython",
    "version": 3
   },
   "file_extension": ".py",
   "mimetype": "text/x-python",
   "name": "python",
   "nbconvert_exporter": "python",
   "pygments_lexer": "ipython3",
   "version": "3.8.2"
  }
 },
 "nbformat": 4,
 "nbformat_minor": 4
}
